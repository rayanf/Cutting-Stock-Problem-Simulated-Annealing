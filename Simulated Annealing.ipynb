{
 "cells": [
  {
   "cell_type": "code",
   "execution_count": 2,
   "id": "thorough-negotiation",
   "metadata": {
    "ExecuteTime": {
     "end_time": "2021-12-07T18:44:14.615781Z",
     "start_time": "2021-12-07T18:44:13.853727Z"
    }
   },
   "outputs": [],
   "source": [
    "import numpy as np\n",
    "import math\n",
    "import random\n",
    "import matplotlib.pyplot as plt\n"
   ]
  },
  {
   "cell_type": "code",
   "execution_count": 54,
   "id": "supported-festival",
   "metadata": {
    "ExecuteTime": {
     "end_time": "2021-12-07T20:16:55.857408Z",
     "start_time": "2021-12-07T20:16:55.845458Z"
    }
   },
   "outputs": [],
   "source": [
    "def loaddata(i):\n",
    "    path = \"input{}.stock\".format(i)\n",
    "    f = open(path, \"r\")\n",
    "    txt = f.readlines()\n",
    "    f.close()\n",
    "    stockLength = txt[0][14:-1]\n",
    "    n = len(txt[3].split(', '))\n",
    "    req = list(map(int,txt[3].split(', ')))\n",
    "    ans = txt[-1][8:-1]\n",
    "    return stockLength, n, req, ans"
   ]
  },
  {
   "cell_type": "code",
   "execution_count": 55,
   "id": "genuine-incidence",
   "metadata": {
    "ExecuteTime": {
     "end_time": "2021-12-07T20:16:56.212404Z",
     "start_time": "2021-12-07T20:16:56.207404Z"
    }
   },
   "outputs": [],
   "source": [
    "stockLength, n, req, ans = loaddata(1)"
   ]
  },
  {
   "cell_type": "code",
   "execution_count": 57,
   "id": "worse-figure",
   "metadata": {
    "ExecuteTime": {
     "end_time": "2021-12-07T20:17:36.469371Z",
     "start_time": "2021-12-07T20:17:36.457382Z"
    }
   },
   "outputs": [
    {
     "data": {
      "text/plain": [
       "'53'"
      ]
     },
     "execution_count": 57,
     "metadata": {},
     "output_type": "execute_result"
    }
   ],
   "source": [
    "ans"
   ]
  },
  {
   "cell_type": "code",
   "execution_count": null,
   "id": "executive-furniture",
   "metadata": {},
   "outputs": [],
   "source": []
  }
 ],
 "metadata": {
  "kernelspec": {
   "display_name": "Python 3",
   "language": "python",
   "name": "python3"
  },
  "language_info": {
   "codemirror_mode": {
    "name": "ipython",
    "version": 3
   },
   "file_extension": ".py",
   "mimetype": "text/x-python",
   "name": "python",
   "nbconvert_exporter": "python",
   "pygments_lexer": "ipython3",
   "version": "3.8.6"
  },
  "toc": {
   "base_numbering": 1,
   "nav_menu": {},
   "number_sections": true,
   "sideBar": true,
   "skip_h1_title": false,
   "title_cell": "Table of Contents",
   "title_sidebar": "Contents",
   "toc_cell": false,
   "toc_position": {},
   "toc_section_display": true,
   "toc_window_display": false
  },
  "varInspector": {
   "cols": {
    "lenName": 16,
    "lenType": 16,
    "lenVar": 40
   },
   "kernels_config": {
    "python": {
     "delete_cmd_postfix": "",
     "delete_cmd_prefix": "del ",
     "library": "var_list.py",
     "varRefreshCmd": "print(var_dic_list())"
    },
    "r": {
     "delete_cmd_postfix": ") ",
     "delete_cmd_prefix": "rm(",
     "library": "var_list.r",
     "varRefreshCmd": "cat(var_dic_list()) "
    }
   },
   "types_to_exclude": [
    "module",
    "function",
    "builtin_function_or_method",
    "instance",
    "_Feature"
   ],
   "window_display": true
  }
 },
 "nbformat": 4,
 "nbformat_minor": 5
}
