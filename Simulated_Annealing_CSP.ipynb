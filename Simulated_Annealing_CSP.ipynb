{
 "cells": [
  {
   "cell_type": "code",
   "execution_count": 2,
   "id": "introductory-fiber",
   "metadata": {
    "ExecuteTime": {
     "end_time": "2021-12-13T00:58:54.878954Z",
     "start_time": "2021-12-13T00:58:54.135308Z"
    },
    "id": "introductory-fiber"
   },
   "outputs": [],
   "source": [
    "import numpy as np\n",
    "import math\n",
    "import random\n",
    "import matplotlib.pyplot as plt\n"
   ]
  },
  {
   "cell_type": "code",
   "execution_count": 3,
   "id": "alternative-survey",
   "metadata": {
    "ExecuteTime": {
     "end_time": "2021-12-13T00:58:54.926111Z",
     "start_time": "2021-12-13T00:58:54.896377Z"
    },
    "id": "alternative-survey"
   },
   "outputs": [],
   "source": [
    "def loaddata(i):\n",
    "    path = \"input{}.stock\".format(i)\n",
    "    f = open(path, \"r\")\n",
    "    txt = f.readlines()\n",
    "    f.close()\n",
    "    stockLength = int(txt[0][14:-1])\n",
    "    n = len(txt[3].split(', '))\n",
    "    req = list(map(int,txt[3].split(', ')))\n",
    "    ans = txt[-1][8:-1]\n",
    "    return stockLength, n, req, ans"
   ]
  },
  {
   "cell_type": "code",
   "execution_count": 4,
   "id": "genuine-accuracy",
   "metadata": {
    "ExecuteTime": {
     "end_time": "2021-12-13T00:58:55.762413Z",
     "start_time": "2021-12-13T00:58:55.758440Z"
    },
    "id": "genuine-accuracy"
   },
   "outputs": [],
   "source": [
    "class Order:\n",
    "    def __init__(self, id, length):\n",
    "        self.id = id\n",
    "        self.len = length        "
   ]
  },
  {
   "cell_type": "code",
   "execution_count": 5,
   "id": "laughing-option",
   "metadata": {
    "ExecuteTime": {
     "end_time": "2021-12-13T00:58:56.551518Z",
     "start_time": "2021-12-13T00:58:56.534518Z"
    },
    "id": "laughing-option"
   },
   "outputs": [],
   "source": [
    "class Problem:\n",
    "    def __init__(self, T, coolingRate, stockLength, markovLength, \n",
    "                 orders, stopCriterion):\n",
    "        self.T = T\n",
    "        self.coolingRate = coolingRate\n",
    "        self.numberOfOrder = len(orders)\n",
    "        self.stockLength = stockLength\n",
    "        self.markovLength = markovLength\n",
    "        self.orders = orders\n",
    "        self.bestAns = math.inf\n",
    "        self.bestArrangement = []\n",
    "        self.stopCriterion = stopCriterion\n",
    "        self.solution = []\n",
    "        \n",
    "    def train(self):\n",
    "        self.initializer()\n",
    "        outerCounter = 0\n",
    "        itter = 0\n",
    "        while outerCounter < self.stopCriterion:\n",
    "            if itter%150 == 0: print(str(itter)+': '+str(outerCounter)+' '+str(self.fittness(self.solution)))\n",
    "            if itter%1000 == 0:\n",
    "              for i in self.solution:\n",
    "                print(i.len,end=',')\n",
    "     \n",
    "            itter += 1\n",
    "            self.T = self.T * self.coolingRate + 0.0001\n",
    "            preSolution = self.solution[:]\n",
    "            self.innerLoop()\n",
    "            if preSolution == self.solution:\n",
    "                outerCounter += 1\n",
    "        return self.bestAns, self.bestArrangement\n",
    "        \n",
    "    def initializer(self):\n",
    "        for i,length in enumerate(self.orders):\n",
    "            order = Order(i,length)\n",
    "            self.solution.append(order)\n",
    "        \n",
    "        random.shuffle(self.solution)\n",
    "    def innerLoop(self):\n",
    "        n = 0\n",
    "        while n <= self.markovLength: \n",
    "            nextsolution = self.swap(self.solution)\n",
    "            self.checkNeighborhood(nextsolution)\n",
    "            n += 1\n",
    "            \n",
    "        \n",
    "    def checkNeighborhood(self,nextsolution):    \n",
    "        nextcost = self.fittness(nextsolution)\n",
    "        delta = nextcost - self.fittness(self.solution)\n",
    "        if delta < 0:    \n",
    "            self.solution = nextsolution\n",
    "        else:\n",
    "            maxProb = np.exp((-delta)/self.T)\n",
    "            prob = random.random()\n",
    "            if prob < maxProb:\n",
    "                self.solution = nextsolution\n",
    "                \n",
    "        if self.bestAns > nextcost:\n",
    "            self.bestAns = nextcost\n",
    "            self.bestArrangement = nextsolution\n",
    "        \n",
    "    \n",
    "    def fittness(self, solution):\n",
    "        rolls = 1\n",
    "        remain = self.stockLength\n",
    "        for order in solution:\n",
    "            if order.len <= remain:\n",
    "                remain -= order.len\n",
    "            else:\n",
    "                rolls += 1\n",
    "                remain = self.stockLength - order.len\n",
    "                \n",
    "        return rolls\n",
    "        \n",
    "    \n",
    "    def swap(self, arr):\n",
    "        newarr = arr[:]\n",
    "        point1 = random.randint(0, self.numberOfOrder-1)\n",
    "        point2 = random.randint(0, self.numberOfOrder-1)\n",
    "        newarr[point1], newarr[point2] = newarr[point2], newarr[point1]\n",
    "        return newarr\n",
    "\n",
    "    def printResult(self):\n",
    "        remain = self.stockLength\n",
    "        for order in self.solution:\n",
    "            if order.len < remain:\n",
    "                remain -= order.len\n",
    "                print(order.id, end=' ') \n",
    "            else:\n",
    "                print('------'+str(remain))\n",
    "                print(order.id, end=' ')\n",
    "                remain = self.stockLength - order.len\n",
    "                \n",
    "        "
   ]
  },
  {
   "cell_type": "code",
   "execution_count": 6,
   "id": "french-water",
   "metadata": {
    "ExecuteTime": {
     "end_time": "2021-12-13T00:59:21.594234Z",
     "start_time": "2021-12-13T00:59:21.116898Z"
    },
    "id": "french-water"
   },
   "outputs": [
    {
     "name": "stdout",
     "output_type": "stream",
     "text": [
      "140\n",
      "0: 0 65\n",
      "125,171,106,409,149,149,18,868,23,618,412,71,46,116,716,187,230,84,555,306,609,592,424,218,186,501,278,246,517,86,211,549,286,106,80,264,69,149,295,224,88,118,92,506,284,581,988,251,788,518,370,126,266,79,368,315,119,371,460,266,53,365,627,914,117,292,515,437,248,106,107,88,463,145,337,678,241,170,99,144,312,753,660,43,805,686,653,662,356,987,402,280,441,648,109,557,525,135,283,115,286,495,33,125,544,351,181,632,249,232,75,70,78,557,672,405,967,354,788,457,346,333,60,148,532,689,753,933,268,507,123,92,106,557,312,45,414,61,301,180,150: 15 54\n",
      "300: 38 54\n",
      "450: 65 53\n",
      "600: 96 53\n",
      "750: 149 52\n",
      "900: 211 52\n",
      "115,662,716,653,409,549,525,283,180,70,312,286,149,125,23,78,135,80,618,86,266,232,402,84,241,354,315,788,88,581,301,988,230,18,689,92,460,405,79,118,224,518,33,412,149,126,148,106,557,144,106,346,627,145,53,278,211,280,119,788,106,660,60,116,125,532,264,46,437,506,592,371,967,171,181,424,648,306,333,632,249,351,356,43,292,672,284,544,88,933,106,286,45,557,69,517,218,109,686,515,457,75,295,463,123,61,557,370,753,187,868,99,251,495,555,441,149,805,337,507,107,914,987,414,71,501,268,365,312,753,186,246,266,368,117,678,248,92,609,170,1050: 252 52\n",
      "1200: 312 52\n",
      "1350: 360 52\n",
      "1500: 401 52\n",
      "1650: 440 52\n",
      "1800: 486 52\n",
      "1950: 530 52\n",
      "118,592,264,266,609,292,370,106,224,557,18,60,80,686,149,149,672,306,53,218,716,46,662,119,170,246,506,549,356,186,753,99,295,84,457,518,115,346,437,402,88,251,581,463,515,987,557,86,988,525,460,405,412,967,557,92,187,125,632,43,689,145,441,211,301,286,283,45,312,424,232,79,75,149,284,648,92,109,78,660,788,23,71,33,117,753,914,61,125,365,354,107,135,517,181,144,268,653,171,106,507,69,116,337,368,286,627,333,788,70,409,532,618,248,933,868,123,106,106,544,241,230,280,249,148,414,495,315,678,805,180,501,351,88,312,278,371,126,555,266,2100: 574 52\n",
      "2250: 624 52\n",
      "2400: 682 52\n",
      "2550: 748 52\n",
      "2700: 797 52\n",
      "2850: 837 52\n",
      "3000: 879 52\n",
      "660,80,246,251,686,23,224,301,107,356,662,117,125,284,648,60,170,264,211,286,987,463,515,788,967,283,106,518,544,99,106,115,414,79,460,805,249,149,125,409,988,187,555,627,312,186,753,346,266,312,171,618,53,333,581,119,501,180,266,672,609,61,135,92,148,678,149,557,218,149,716,278,868,116,306,689,632,365,292,557,106,441,507,92,70,145,517,914,506,33,232,71,371,280,43,86,181,315,592,18,788,123,241,753,337,84,557,437,457,424,549,532,295,88,106,69,75,268,354,286,230,405,45,88,248,653,525,351,78,402,370,46,144,368,495,109,933,412,126,118,3150: 924 52\n",
      "3300: 966 52\n",
      "52\n",
      "18 70 609 116 356 581 232 753 312 544 123 218 268 125 92 71 186 241 412 301 662 126 370 251 84 292 805 53 549 144 249 967 405 507 627 284 119 437 80 149 170 45 557 371 557 424 788 117 525 346 333 60 555 914 988 149 118 171 441 148 78 753 592 224 86 557 365 23 632 286 653 337 457 351 46 716 672 181 686 312 248 107 618 135 33 414 286 660 43 79 88 933 88 145 648 278 264 306 280 515 149 868 266 532 115 460 125 402 678 230 106 246 106 495 517 92 266 788 187 987 368 106 75 354 61 180 409 295 518 315 106 69 283 506 109 689 99 211 501 463 "
     ]
    }
   ],
   "source": [
    "stockLength, n, req, ans = loaddata(1)\n",
    "print((len(req)))\n",
    "solve = Problem(T = 1\n",
    "            , coolingRate = 0.9\n",
    "            , stockLength = stockLength\n",
    "            , markovLength = 3\n",
    "            , orders = req\n",
    "            , stopCriterion = 1000)\n",
    "rolls, ans = solve.train()\n",
    "print(rolls)\n",
    "for i in ans:\n",
    "    print(i.len,end=' ')"
   ]
  },
  {
   "cell_type": "code",
   "execution_count": null,
   "id": "developing-small",
   "metadata": {},
   "outputs": [],
   "source": []
  }
 ],
 "metadata": {
  "colab": {
   "collapsed_sections": [],
   "name": "Simulated Annealing-CSP.ipynb",
   "provenance": []
  },
  "kernelspec": {
   "display_name": "Python 3",
   "language": "python",
   "name": "python3"
  },
  "language_info": {
   "codemirror_mode": {
    "name": "ipython",
    "version": 3
   },
   "file_extension": ".py",
   "mimetype": "text/x-python",
   "name": "python",
   "nbconvert_exporter": "python",
   "pygments_lexer": "ipython3",
   "version": "3.8.6"
  },
  "toc": {
   "base_numbering": 1,
   "nav_menu": {},
   "number_sections": true,
   "sideBar": true,
   "skip_h1_title": false,
   "title_cell": "Table of Contents",
   "title_sidebar": "Contents",
   "toc_cell": false,
   "toc_position": {},
   "toc_section_display": true,
   "toc_window_display": false
  },
  "varInspector": {
   "cols": {
    "lenName": 16,
    "lenType": 16,
    "lenVar": 40
   },
   "kernels_config": {
    "python": {
     "delete_cmd_postfix": "",
     "delete_cmd_prefix": "del ",
     "library": "var_list.py",
     "varRefreshCmd": "print(var_dic_list())"
    },
    "r": {
     "delete_cmd_postfix": ") ",
     "delete_cmd_prefix": "rm(",
     "library": "var_list.r",
     "varRefreshCmd": "cat(var_dic_list()) "
    }
   },
   "types_to_exclude": [
    "module",
    "function",
    "builtin_function_or_method",
    "instance",
    "_Feature"
   ],
   "window_display": false
  }
 },
 "nbformat": 4,
 "nbformat_minor": 5
}
